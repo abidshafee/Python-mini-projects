{
  "nbformat": 4,
  "nbformat_minor": 0,
  "metadata": {
    "colab": {
      "name": "Sudoku Solver.ipynb",
      "provenance": [],
      "authorship_tag": "ABX9TyNtA5NLlBa9lTIpjefERiow",
      "include_colab_link": true
    },
    "kernelspec": {
      "name": "python3",
      "display_name": "Python 3"
    }
  },
  "cells": [
    {
      "cell_type": "markdown",
      "metadata": {
        "id": "view-in-github",
        "colab_type": "text"
      },
      "source": [
        "<a href=\"https://colab.research.google.com/github/abidshafee/Python-mini-projects/blob/main/Sudoku_Solver.ipynb\" target=\"_parent\"><img src=\"https://colab.research.google.com/assets/colab-badge.svg\" alt=\"Open In Colab\"/></a>"
      ]
    },
    {
      "cell_type": "code",
      "metadata": {
        "id": "w5Dc0N8JwkuW"
      },
      "source": [
        "grid = [[0, 0, 1, 0, 0,4, 6, 0, 0],\r\n",
        "        [8, 2, 7, 1, 0, 3, 5, 0, 9],\r\n",
        "        [0, 4, 9, 5, 2, 0, 0, 3, 0],\r\n",
        "        [2, 0, 0, 0, 0, 0, 0, 0, 6],\r\n",
        "        [7, 0, 0, 0, 1, 6, 0, 8, 4],\r\n",
        "        [0, 0, 0, 3, 8, 2, 0, 0, 7],\r\n",
        "        [0, 0, 0, 0, 0, 8, 0, 0, 0],\r\n",
        "        [0, 8, 5, 0, 0, 0, 7, 6, 3],\r\n",
        "        [0, 7, 4, 0, 5, 0, 9, 0, 8]]"
      ],
      "execution_count": 18,
      "outputs": []
    },
    {
      "cell_type": "code",
      "metadata": {
        "colab": {
          "base_uri": "https://localhost:8080/"
        },
        "id": "I6pbxCNb47wy",
        "outputId": "30e8efd7-19f8-4bd5-c73b-e015f7998cf6"
      },
      "source": [
        "print(grid)"
      ],
      "execution_count": null,
      "outputs": [
        {
          "output_type": "stream",
          "text": [
            "[[0, 0, 1, 0, 0, 4, 6, 0, 0], [8, 2, 7, 1, 0, 3, 5, 0, 9], [0, 4, 9, 5, 2, 0, 0, 3, 0], [2, 0, 0, 0, 0, 0, 0, 0, 6], [7, 0, 0, 0, 1, 6, 0, 8, 4], [0, 0, 0, 3, 8, 2, 0, 0, 7], [0, 0, 0, 0, 0, 8, 0, 0, 0], [0, 8, 5, 0, 0, 0, 7, 6, 3], [0, 7, 4, 0, 5, 0, 9, 0, 8]]\n"
          ],
          "name": "stdout"
        }
      ]
    },
    {
      "cell_type": "markdown",
      "metadata": {
        "id": "cXscgFN33qzP"
      },
      "source": [
        "### way to converting 2d grid to numpy n-dimentional array"
      ]
    },
    {
      "cell_type": "code",
      "metadata": {
        "colab": {
          "base_uri": "https://localhost:8080/"
        },
        "id": "FkW4KI5i3fBd",
        "outputId": "160a54b4-7197-4953-8cb1-86c039972a62"
      },
      "source": [
        "import numpy as np\r\n",
        "nd_grid = np.matrix(grid)\r\n",
        "print(nd_grid)"
      ],
      "execution_count": 21,
      "outputs": [
        {
          "output_type": "stream",
          "text": [
            "[[0 0 1 0 0 4 6 0 0]\n",
            " [8 2 7 1 0 3 5 0 9]\n",
            " [0 4 9 5 2 0 0 3 0]\n",
            " [2 0 0 0 0 0 0 0 6]\n",
            " [7 0 0 0 1 6 0 8 4]\n",
            " [0 0 0 3 8 2 0 0 7]\n",
            " [0 0 0 0 0 8 0 0 0]\n",
            " [0 8 5 0 0 0 7 6 3]\n",
            " [0 7 4 0 5 0 9 0 8]]\n"
          ],
          "name": "stdout"
        }
      ]
    },
    {
      "cell_type": "markdown",
      "metadata": {
        "id": "_2iHJ28V6jLM"
      },
      "source": [
        "check where in a certain position we can put a right number."
      ]
    },
    {
      "cell_type": "markdown",
      "metadata": {
        "id": "7IL8II8z8htj"
      },
      "source": [
        "![image.png](https://csschoolonline.xyz/wp-content/uploads/2021/01/Sudoku_puzzle-03.png)"
      ]
    },
    {
      "cell_type": "code",
      "metadata": {
        "id": "E1RsAeJT4BvW"
      },
      "source": [
        "def check(y, x, n):\r\n",
        "    global grid\r\n",
        "    for i in range(0, 9):\r\n",
        "        if grid[y][i] == n:\r\n",
        "          return False\r\n",
        "    for i in range(0, 9):\r\n",
        "        if grid[i][x] == n:\r\n",
        "          return False\r\n",
        "    x0 = (x//3)*3\r\n",
        "    y0 = (y//3)*3\r\n",
        "    for i in range (0, 3):\r\n",
        "        for j in range (0, 3):\r\n",
        "            if grid[y0+i][x0+j] == n:\r\n",
        "                return False\r\n",
        "    return True"
      ],
      "execution_count": 19,
      "outputs": []
    },
    {
      "cell_type": "code",
      "metadata": {
        "id": "I0MGKXLH6thj",
        "colab": {
          "base_uri": "https://localhost:8080/"
        },
        "outputId": "d5c95056-066c-48b1-ff1b-2f7de912e4fe"
      },
      "source": [
        "check(3,1,7)"
      ],
      "execution_count": 20,
      "outputs": [
        {
          "output_type": "execute_result",
          "data": {
            "text/plain": [
              "False"
            ]
          },
          "metadata": {
            "tags": []
          },
          "execution_count": 20
        }
      ]
    },
    {
      "cell_type": "code",
      "metadata": {
        "id": "mUJoxY4bJZXn"
      },
      "source": [
        "def solve():\r\n",
        "    global grid\r\n",
        "    for y in range(9):\r\n",
        "      for x in range(9):\r\n",
        "        if grid[x][y] == 0:\r\n",
        "          for n in range(1,10):\r\n",
        "            if check(y,x,n):\r\n",
        "              grid[y][x] = n\r\n",
        "              solve()\r\n",
        "              grid[y][x] = 0\r\n",
        "          return\r\n",
        "    print(np.matrix(grid))\r\n",
        "    input(\"?\")"
      ],
      "execution_count": 39,
      "outputs": []
    },
    {
      "cell_type": "code",
      "metadata": {
        "colab": {
          "base_uri": "https://localhost:8080/",
          "height": 340
        },
        "id": "GEGkvmPoNsVw",
        "outputId": "402d0c5e-7bcf-401e-96b5-984f344c9d09"
      },
      "source": [
        "solve()"
      ],
      "execution_count": 40,
      "outputs": [
        {
          "output_type": "error",
          "ename": "RecursionError",
          "evalue": "ignored",
          "traceback": [
            "\u001b[0;31m---------------------------------------------------------------------------\u001b[0m",
            "\u001b[0;31mRecursionError\u001b[0m                            Traceback (most recent call last)",
            "\u001b[0;32m<ipython-input-40-6f300b4f5987>\u001b[0m in \u001b[0;36m<module>\u001b[0;34m()\u001b[0m\n\u001b[0;32m----> 1\u001b[0;31m \u001b[0msolve\u001b[0m\u001b[0;34m(\u001b[0m\u001b[0;34m)\u001b[0m\u001b[0;34m\u001b[0m\u001b[0;34m\u001b[0m\u001b[0m\n\u001b[0m",
            "\u001b[0;32m<ipython-input-39-833037083cef>\u001b[0m in \u001b[0;36msolve\u001b[0;34m()\u001b[0m\n\u001b[1;32m      7\u001b[0m             \u001b[0;32mif\u001b[0m \u001b[0mcheck\u001b[0m\u001b[0;34m(\u001b[0m\u001b[0my\u001b[0m\u001b[0;34m,\u001b[0m\u001b[0mx\u001b[0m\u001b[0;34m,\u001b[0m\u001b[0mn\u001b[0m\u001b[0;34m)\u001b[0m\u001b[0;34m:\u001b[0m\u001b[0;34m\u001b[0m\u001b[0;34m\u001b[0m\u001b[0m\n\u001b[1;32m      8\u001b[0m               \u001b[0mgrid\u001b[0m\u001b[0;34m[\u001b[0m\u001b[0my\u001b[0m\u001b[0;34m]\u001b[0m\u001b[0;34m[\u001b[0m\u001b[0mx\u001b[0m\u001b[0;34m]\u001b[0m \u001b[0;34m=\u001b[0m \u001b[0mn\u001b[0m\u001b[0;34m\u001b[0m\u001b[0;34m\u001b[0m\u001b[0m\n\u001b[0;32m----> 9\u001b[0;31m               \u001b[0msolve\u001b[0m\u001b[0;34m(\u001b[0m\u001b[0;34m)\u001b[0m\u001b[0;34m\u001b[0m\u001b[0;34m\u001b[0m\u001b[0m\n\u001b[0m\u001b[1;32m     10\u001b[0m               \u001b[0mgrid\u001b[0m\u001b[0;34m[\u001b[0m\u001b[0my\u001b[0m\u001b[0;34m]\u001b[0m\u001b[0;34m[\u001b[0m\u001b[0mx\u001b[0m\u001b[0;34m]\u001b[0m \u001b[0;34m=\u001b[0m \u001b[0;36m0\u001b[0m\u001b[0;34m\u001b[0m\u001b[0;34m\u001b[0m\u001b[0m\n\u001b[1;32m     11\u001b[0m           \u001b[0;32mreturn\u001b[0m\u001b[0;34m\u001b[0m\u001b[0;34m\u001b[0m\u001b[0m\n",
            "... last 1 frames repeated, from the frame below ...\n",
            "\u001b[0;32m<ipython-input-39-833037083cef>\u001b[0m in \u001b[0;36msolve\u001b[0;34m()\u001b[0m\n\u001b[1;32m      7\u001b[0m             \u001b[0;32mif\u001b[0m \u001b[0mcheck\u001b[0m\u001b[0;34m(\u001b[0m\u001b[0my\u001b[0m\u001b[0;34m,\u001b[0m\u001b[0mx\u001b[0m\u001b[0;34m,\u001b[0m\u001b[0mn\u001b[0m\u001b[0;34m)\u001b[0m\u001b[0;34m:\u001b[0m\u001b[0;34m\u001b[0m\u001b[0;34m\u001b[0m\u001b[0m\n\u001b[1;32m      8\u001b[0m               \u001b[0mgrid\u001b[0m\u001b[0;34m[\u001b[0m\u001b[0my\u001b[0m\u001b[0;34m]\u001b[0m\u001b[0;34m[\u001b[0m\u001b[0mx\u001b[0m\u001b[0;34m]\u001b[0m \u001b[0;34m=\u001b[0m \u001b[0mn\u001b[0m\u001b[0;34m\u001b[0m\u001b[0;34m\u001b[0m\u001b[0m\n\u001b[0;32m----> 9\u001b[0;31m               \u001b[0msolve\u001b[0m\u001b[0;34m(\u001b[0m\u001b[0;34m)\u001b[0m\u001b[0;34m\u001b[0m\u001b[0;34m\u001b[0m\u001b[0m\n\u001b[0m\u001b[1;32m     10\u001b[0m               \u001b[0mgrid\u001b[0m\u001b[0;34m[\u001b[0m\u001b[0my\u001b[0m\u001b[0;34m]\u001b[0m\u001b[0;34m[\u001b[0m\u001b[0mx\u001b[0m\u001b[0;34m]\u001b[0m \u001b[0;34m=\u001b[0m \u001b[0;36m0\u001b[0m\u001b[0;34m\u001b[0m\u001b[0;34m\u001b[0m\u001b[0m\n\u001b[1;32m     11\u001b[0m           \u001b[0;32mreturn\u001b[0m\u001b[0;34m\u001b[0m\u001b[0;34m\u001b[0m\u001b[0m\n",
            "\u001b[0;31mRecursionError\u001b[0m: maximum recursion depth exceeded in comparison"
          ]
        }
      ]
    },
    {
      "cell_type": "code",
      "metadata": {
        "id": "TwVIgMceObkL"
      },
      "source": [
        ""
      ],
      "execution_count": null,
      "outputs": []
    }
  ]
}