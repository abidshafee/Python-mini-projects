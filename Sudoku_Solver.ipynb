{
  "nbformat": 4,
  "nbformat_minor": 0,
  "metadata": {
    "colab": {
      "name": "Sudoku Solver.ipynb",
      "provenance": [],
      "collapsed_sections": [],
      "authorship_tag": "ABX9TyPwy2c2Pjm9He7z2NpeMwtH",
      "include_colab_link": true
    },
    "kernelspec": {
      "name": "python3",
      "display_name": "Python 3"
    }
  },
  "cells": [
    {
      "cell_type": "markdown",
      "metadata": {
        "id": "view-in-github",
        "colab_type": "text"
      },
      "source": [
        "<a href=\"https://colab.research.google.com/github/abidshafee/Python-mini-projects/blob/main/Sudoku_Solver.ipynb\" target=\"_parent\"><img src=\"https://colab.research.google.com/assets/colab-badge.svg\" alt=\"Open In Colab\"/></a>"
      ]
    },
    {
      "cell_type": "code",
      "metadata": {
        "id": "w5Dc0N8JwkuW"
      },
      "source": [
        "grid = [[0, 0, 1, 0, 0,4, 6, 0, 0],\r\n",
        "        [8, 2, 7, 1, 0, 3, 5, 0, 9],\r\n",
        "        [0, 4, 9, 5, 2, 0, 0, 3, 0],\r\n",
        "        [2, 0, 0, 0, 0, 0, 0, 0, 6],\r\n",
        "        [7, 0, 0, 0, 1, 6, 0, 8, 4],\r\n",
        "        [0, 0, 0, 3, 8, 2, 0, 0, 7],\r\n",
        "        [0, 0, 0, 0, 0, 8, 0, 0, 0],\r\n",
        "        [0, 8, 5, 0, 0, 0, 7, 6, 3],\r\n",
        "        [0, 7, 4, 0, 5, 0, 9, 0, 8]]"
      ],
      "execution_count": 1,
      "outputs": []
    },
    {
      "cell_type": "code",
      "metadata": {
        "colab": {
          "base_uri": "https://localhost:8080/"
        },
        "id": "I6pbxCNb47wy",
        "outputId": "fcee2b67-5817-47ef-f106-cf641326154e"
      },
      "source": [
        "print(grid)"
      ],
      "execution_count": 2,
      "outputs": [
        {
          "output_type": "stream",
          "text": [
            "[[0, 0, 1, 0, 0, 4, 6, 0, 0], [8, 2, 7, 1, 0, 3, 5, 0, 9], [0, 4, 9, 5, 2, 0, 0, 3, 0], [2, 0, 0, 0, 0, 0, 0, 0, 6], [7, 0, 0, 0, 1, 6, 0, 8, 4], [0, 0, 0, 3, 8, 2, 0, 0, 7], [0, 0, 0, 0, 0, 8, 0, 0, 0], [0, 8, 5, 0, 0, 0, 7, 6, 3], [0, 7, 4, 0, 5, 0, 9, 0, 8]]\n"
          ],
          "name": "stdout"
        }
      ]
    },
    {
      "cell_type": "markdown",
      "metadata": {
        "id": "cXscgFN33qzP"
      },
      "source": [
        "### way to converting 2d grid to numpy n-dimentional array"
      ]
    },
    {
      "cell_type": "code",
      "metadata": {
        "colab": {
          "base_uri": "https://localhost:8080/"
        },
        "id": "FkW4KI5i3fBd",
        "outputId": "065103a9-7da6-41e8-b43f-d145242a7128"
      },
      "source": [
        "import numpy as np\r\n",
        "nd_grid = np.matrix(grid)\r\n",
        "print(nd_grid)"
      ],
      "execution_count": 3,
      "outputs": [
        {
          "output_type": "stream",
          "text": [
            "[[0 0 1 0 0 4 6 0 0]\n",
            " [8 2 7 1 0 3 5 0 9]\n",
            " [0 4 9 5 2 0 0 3 0]\n",
            " [2 0 0 0 0 0 0 0 6]\n",
            " [7 0 0 0 1 6 0 8 4]\n",
            " [0 0 0 3 8 2 0 0 7]\n",
            " [0 0 0 0 0 8 0 0 0]\n",
            " [0 8 5 0 0 0 7 6 3]\n",
            " [0 7 4 0 5 0 9 0 8]]\n"
          ],
          "name": "stdout"
        }
      ]
    },
    {
      "cell_type": "markdown",
      "metadata": {
        "id": "_2iHJ28V6jLM"
      },
      "source": [
        "check where in a certain position we can put a right number."
      ]
    },
    {
      "cell_type": "markdown",
      "metadata": {
        "id": "7IL8II8z8htj"
      },
      "source": [
        "![image.png](https://csschoolonline.xyz/wp-content/uploads/2021/01/Sudoku_puzzle-03.png)"
      ]
    },
    {
      "cell_type": "code",
      "metadata": {
        "id": "E1RsAeJT4BvW"
      },
      "source": [
        "def check(y, x, n):\r\n",
        "    global grid\r\n",
        "    for i in range(0, 9):\r\n",
        "        if grid[y][i] == n:\r\n",
        "          return False\r\n",
        "    for i in range(0, 9):\r\n",
        "        if grid[i][x] == n:\r\n",
        "          return False\r\n",
        "    x0 = (x//3)*3\r\n",
        "    y0 = (y//3)*3\r\n",
        "    for i in range (0, 3):\r\n",
        "        for j in range (0, 3):\r\n",
        "            if grid[y0+i][x0+j] == n:\r\n",
        "                return False\r\n",
        "    return True"
      ],
      "execution_count": 4,
      "outputs": []
    },
    {
      "cell_type": "code",
      "metadata": {
        "id": "I0MGKXLH6thj",
        "colab": {
          "base_uri": "https://localhost:8080/"
        },
        "outputId": "ac485b7e-cb91-4ed2-fe80-17f33a1aa940"
      },
      "source": [
        "check(3,1,7)"
      ],
      "execution_count": 6,
      "outputs": [
        {
          "output_type": "execute_result",
          "data": {
            "text/plain": [
              "False"
            ]
          },
          "metadata": {
            "tags": []
          },
          "execution_count": 6
        }
      ]
    },
    {
      "cell_type": "code",
      "metadata": {
        "id": "mUJoxY4bJZXn"
      },
      "source": [
        "#from functools import lru_cache\r\n",
        "\r\n",
        "#@lru_cache(maxsize = 1000)\r\n",
        "#recursive function -> solve function call itself\r\n",
        "def solve():\r\n",
        "    global grid\r\n",
        "    for y in range(9):\r\n",
        "      for x in range(9):\r\n",
        "        if grid[y][x] == 0:\r\n",
        "          for n in range(1,10):\r\n",
        "            if check(y,x,n):\r\n",
        "              grid[y][x] = n\r\n",
        "              solve()\r\n",
        "              grid[y][x] = 0\r\n",
        "          return\r\n",
        "    print(np.matrix(grid))"
      ],
      "execution_count": 11,
      "outputs": []
    },
    {
      "cell_type": "code",
      "metadata": {
        "colab": {
          "base_uri": "https://localhost:8080/"
        },
        "id": "GEGkvmPoNsVw",
        "outputId": "5a25033c-71e4-46d7-c62e-a40a72233385"
      },
      "source": [
        "solve()"
      ],
      "execution_count": 12,
      "outputs": [
        {
          "output_type": "stream",
          "text": [
            "[[5 3 1 8 9 4 6 7 2]\n",
            " [8 2 7 1 6 3 5 4 9]\n",
            " [6 4 9 5 2 7 8 3 1]\n",
            " [2 1 8 4 7 5 3 9 6]\n",
            " [7 5 3 9 1 6 2 8 4]\n",
            " [4 9 6 3 8 2 1 5 7]\n",
            " [9 6 2 7 3 8 4 1 5]\n",
            " [1 8 5 2 4 9 7 6 3]\n",
            " [3 7 4 6 5 1 9 2 8]]\n"
          ],
          "name": "stdout"
        }
      ]
    },
    {
      "cell_type": "code",
      "metadata": {
        "colab": {
          "base_uri": "https://localhost:8080/"
        },
        "id": "TwVIgMceObkL",
        "outputId": "17b8612d-0555-4619-e338-06d02fb8b69e"
      },
      "source": [
        "import sys\r\n",
        "print(sys.getrecursionlimit())"
      ],
      "execution_count": 12,
      "outputs": [
        {
          "output_type": "stream",
          "text": [
            "1000\n"
          ],
          "name": "stdout"
        }
      ]
    },
    {
      "cell_type": "code",
      "metadata": {
        "id": "TRau8KjDUJVS"
      },
      "source": [
        "sys.setrecursionlimit(15000)"
      ],
      "execution_count": null,
      "outputs": []
    },
    {
      "cell_type": "code",
      "metadata": {
        "colab": {
          "base_uri": "https://localhost:8080/"
        },
        "id": "IZ5M4ZORUxjT",
        "outputId": "718e15fd-0efd-41f9-999f-2f26f85d8d35"
      },
      "source": [
        "print(sys.getrecursionlimit())"
      ],
      "execution_count": 13,
      "outputs": [
        {
          "output_type": "stream",
          "text": [
            "1000\n"
          ],
          "name": "stdout"
        }
      ]
    },
    {
      "cell_type": "code",
      "metadata": {
        "id": "wrJM6IGTVFWz"
      },
      "source": [
        ""
      ],
      "execution_count": null,
      "outputs": []
    }
  ]
}