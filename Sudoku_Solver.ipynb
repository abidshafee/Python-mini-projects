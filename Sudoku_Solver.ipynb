{
  "nbformat": 4,
  "nbformat_minor": 0,
  "metadata": {
    "colab": {
      "name": "Sudoku Solver.ipynb",
      "provenance": [],
      "authorship_tag": "ABX9TyNHjqq82c97uueQY/NLA68/",
      "include_colab_link": true
    },
    "kernelspec": {
      "name": "python3",
      "display_name": "Python 3"
    }
  },
  "cells": [
    {
      "cell_type": "markdown",
      "metadata": {
        "id": "view-in-github",
        "colab_type": "text"
      },
      "source": [
        "<a href=\"https://colab.research.google.com/github/abidshafee/Python-mini-projects/blob/main/Sudoku_Solver.ipynb\" target=\"_parent\"><img src=\"https://colab.research.google.com/assets/colab-badge.svg\" alt=\"Open In Colab\"/></a>"
      ]
    },
    {
      "cell_type": "code",
      "metadata": {
        "id": "w5Dc0N8JwkuW"
      },
      "source": [
        "grid = [[0, 0, 1, 0, 0,4, 6, 0, 0],\r\n",
        "        [8, 2, 7, 1, 0, 3, 5, 0, 9],\r\n",
        "        [0, 4, 9, 5, 2, 0, 0, 3, 0],\r\n",
        "        [2, 0, 0, 0, 0, 0, 0, 0, 6],\r\n",
        "        [7, 0, 0, 0, 1, 6, 0, 8, 4],\r\n",
        "        [0, 0, 0, 3, 8, 2, 0, 0, 7],\r\n",
        "        [0, 0, 0, 0, 0, 8, 0, 0, 0],\r\n",
        "        [0, 8, 5, 0, 0, 0, 7, 6, 3],\r\n",
        "        [0, 7, 4, 0, 5, 0, 9, 0, 8]]"
      ],
      "execution_count": null,
      "outputs": []
    },
    {
      "cell_type": "code",
      "metadata": {
        "colab": {
          "base_uri": "https://localhost:8080/"
        },
        "id": "I6pbxCNb47wy",
        "outputId": "30e8efd7-19f8-4bd5-c73b-e015f7998cf6"
      },
      "source": [
        "print(grid)"
      ],
      "execution_count": null,
      "outputs": [
        {
          "output_type": "stream",
          "text": [
            "[[0, 0, 1, 0, 0, 4, 6, 0, 0], [8, 2, 7, 1, 0, 3, 5, 0, 9], [0, 4, 9, 5, 2, 0, 0, 3, 0], [2, 0, 0, 0, 0, 0, 0, 0, 6], [7, 0, 0, 0, 1, 6, 0, 8, 4], [0, 0, 0, 3, 8, 2, 0, 0, 7], [0, 0, 0, 0, 0, 8, 0, 0, 0], [0, 8, 5, 0, 0, 0, 7, 6, 3], [0, 7, 4, 0, 5, 0, 9, 0, 8]]\n"
          ],
          "name": "stdout"
        }
      ]
    },
    {
      "cell_type": "markdown",
      "metadata": {
        "id": "cXscgFN33qzP"
      },
      "source": [
        "### Converting grid to numpy n-dimentional array"
      ]
    },
    {
      "cell_type": "code",
      "metadata": {
        "colab": {
          "base_uri": "https://localhost:8080/"
        },
        "id": "FkW4KI5i3fBd",
        "outputId": "4014b9a8-103c-4b12-fc8e-5ae9563f2bbf"
      },
      "source": [
        "import numpy as np\r\n",
        "grid = np.matrix(grid)\r\n",
        "print(grid)"
      ],
      "execution_count": null,
      "outputs": [
        {
          "output_type": "stream",
          "text": [
            "[[0 0 1 0 0 4 6 0 0]\n",
            " [8 2 7 1 0 3 5 0 9]\n",
            " [0 4 9 5 2 0 0 3 0]\n",
            " [2 0 0 0 0 0 0 0 6]\n",
            " [7 0 0 0 1 6 0 8 4]\n",
            " [0 0 0 3 8 2 0 0 7]\n",
            " [0 0 0 0 0 8 0 0 0]\n",
            " [0 8 5 0 0 0 7 6 3]\n",
            " [0 7 4 0 5 0 9 0 8]]\n"
          ],
          "name": "stdout"
        }
      ]
    },
    {
      "cell_type": "markdown",
      "metadata": {
        "id": "_2iHJ28V6jLM"
      },
      "source": [
        "check where in a certain position we can put a right number."
      ]
    },
    {
      "cell_type": "markdown",
      "metadata": {
        "id": "7IL8II8z8htj"
      },
      "source": [
        "![image.png](https://csschoolonline.xyz/wp-content/uploads/2021/01/Sudoku_puzzle-03.png)"
      ]
    },
    {
      "cell_type": "code",
      "metadata": {
        "id": "E1RsAeJT4BvW"
      },
      "source": [
        "def check(y, x, n):\r\n",
        "    global grid\r\n",
        "    for i in range(0, 9):\r\n",
        "        if grid[y][i] == n:\r\n",
        "            return False\r\n",
        "    for i in range(0, 9):\r\n",
        "         if grid[i][x] == n:\r\n",
        "             return False\r\n",
        "    x0 = (x//3)*3\r\n",
        "    y0 = (y//3)*3\r\n",
        "    for i in range (0, 3):\r\n",
        "        for j in range (0, 3):\r\n",
        "            if grid[y0+i][x0+j] == n:\r\n",
        "                return False\r\n",
        "    return True"
      ],
      "execution_count": null,
      "outputs": []
    },
    {
      "cell_type": "code",
      "metadata": {
        "id": "I0MGKXLH6thj"
      },
      "source": [
        ""
      ],
      "execution_count": null,
      "outputs": []
    }
  ]
}